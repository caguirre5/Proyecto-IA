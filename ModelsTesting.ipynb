{
 "cells": [
  {
   "cell_type": "code",
   "execution_count": 4,
   "metadata": {},
   "outputs": [],
   "source": [
    "import numpy \n",
    "import pandas as pd\n",
    "import string\n",
    "from nltk.tokenize import word_tokenize\n",
    "from collections import Counter\n",
    "\n",
    "import matplotlib.pyplot as plt\n",
    "from nltk.corpus import stopwords\n",
    "from nltk.sentiment.vader import SentimentIntensityAnalyzer\n",
    "from nltk.stem import WordNetLemmatizer"
   ]
  },
  {
   "cell_type": "code",
   "execution_count": 5,
   "metadata": {},
   "outputs": [
    {
     "name": "stdout",
     "output_type": "stream",
     "text": [
      "(99781, 3)\n"
     ]
    },
    {
     "data": {
      "text/html": [
       "<div>\n",
       "<style scoped>\n",
       "    .dataframe tbody tr th:only-of-type {\n",
       "        vertical-align: middle;\n",
       "    }\n",
       "\n",
       "    .dataframe tbody tr th {\n",
       "        vertical-align: top;\n",
       "    }\n",
       "\n",
       "    .dataframe thead th {\n",
       "        text-align: right;\n",
       "    }\n",
       "</style>\n",
       "<table border=\"1\" class=\"dataframe\">\n",
       "  <thead>\n",
       "    <tr style=\"text-align: right;\">\n",
       "      <th></th>\n",
       "      <th>ItemID</th>\n",
       "      <th>Sentiment</th>\n",
       "      <th>SentimentText;;;;;;;;</th>\n",
       "    </tr>\n",
       "  </thead>\n",
       "  <tbody>\n",
       "    <tr>\n",
       "      <th>0</th>\n",
       "      <td>1</td>\n",
       "      <td>0.0</td>\n",
       "      <td>is so sad for my APL frie...</td>\n",
       "    </tr>\n",
       "    <tr>\n",
       "      <th>1</th>\n",
       "      <td>2</td>\n",
       "      <td>0.0</td>\n",
       "      <td>I missed the New Moon trail...</td>\n",
       "    </tr>\n",
       "    <tr>\n",
       "      <th>2</th>\n",
       "      <td>3</td>\n",
       "      <td>1.0</td>\n",
       "      <td>omg its already 7:30 :O;;;;;;;;</td>\n",
       "    </tr>\n",
       "    <tr>\n",
       "      <th>3</th>\n",
       "      <td>4</td>\n",
       "      <td>0.0</td>\n",
       "      <td>.. Omgaga. Im sooo  im gunna CRy. I'...</td>\n",
       "    </tr>\n",
       "    <tr>\n",
       "      <th>4</th>\n",
       "      <td>5</td>\n",
       "      <td>0.0</td>\n",
       "      <td>i think mi bf is cheating on me!!!   ...</td>\n",
       "    </tr>\n",
       "  </tbody>\n",
       "</table>\n",
       "</div>"
      ],
      "text/plain": [
       "  ItemID  Sentiment                              SentimentText;;;;;;;;\n",
       "0      1        0.0                       is so sad for my APL frie...\n",
       "1      2        0.0                     I missed the New Moon trail...\n",
       "2      3        1.0                    omg its already 7:30 :O;;;;;;;;\n",
       "3      4        0.0            .. Omgaga. Im sooo  im gunna CRy. I'...\n",
       "4      5        0.0           i think mi bf is cheating on me!!!   ..."
      ]
     },
     "execution_count": 5,
     "metadata": {},
     "output_type": "execute_result"
    }
   ],
   "source": [
    "data = pd.read_csv('./train.csv', encoding='latin-1', delimiter=',', quotechar='\"')\n",
    "print(data.shape)\n",
    "data.head()"
   ]
  },
  {
   "cell_type": "code",
   "execution_count": 36,
   "metadata": {},
   "outputs": [],
   "source": [
    "data = data.dropna()"
   ]
  },
  {
   "cell_type": "code",
   "execution_count": 37,
   "metadata": {},
   "outputs": [
    {
     "name": "stdout",
     "output_type": "stream",
     "text": [
      "1.0    41615\n",
      "0.0    33424\n",
      "Name: Sentiment, dtype: int64\n"
     ]
    }
   ],
   "source": [
    "# Obtener la distribución de clases\n",
    "class_distribution = data['Sentiment'].value_counts()\n",
    "\n",
    "# Imprimir la distribución de clases\n",
    "print(class_distribution)"
   ]
  },
  {
   "cell_type": "code",
   "execution_count": 38,
   "metadata": {},
   "outputs": [],
   "source": [
    "minority_class_size = min(class_distribution)\n",
    "\n",
    "# Undersampling de la clase mayoritaria\n",
    "undersampled_df = pd.concat([\n",
    "    data[data['Sentiment'] == 0],\n",
    "    data[data['Sentiment'] == 1].sample(minority_class_size, replace=True)\n",
    "])\n",
    "\n",
    "new_class_distribution = undersampled_df['Sentiment'].value_counts()"
   ]
  },
  {
   "cell_type": "code",
   "execution_count": 39,
   "metadata": {},
   "outputs": [],
   "source": [
    "data = undersampled_df"
   ]
  },
  {
   "cell_type": "code",
   "execution_count": 40,
   "metadata": {},
   "outputs": [],
   "source": [
    "class_distribution = data['Sentiment'].value_counts()"
   ]
  },
  {
   "cell_type": "code",
   "execution_count": 41,
   "metadata": {},
   "outputs": [
    {
     "data": {
      "text/plain": [
       "0.0    33424\n",
       "1.0    33424\n",
       "Name: Sentiment, dtype: int64"
      ]
     },
     "execution_count": 41,
     "metadata": {},
     "output_type": "execute_result"
    }
   ],
   "source": [
    "class_distribution"
   ]
  },
  {
   "cell_type": "code",
   "execution_count": 42,
   "metadata": {},
   "outputs": [],
   "source": [
    "data =  data.rename(columns={'SentimentText;;;;;;;;': 'SentimentText'})\n",
    "data['Sentiment'] = data['Sentiment'].astype(int)\n"
   ]
  },
  {
   "attachments": {},
   "cell_type": "markdown",
   "metadata": {},
   "source": [
    "#Limpieza de textos"
   ]
  },
  {
   "cell_type": "code",
   "execution_count": 43,
   "metadata": {},
   "outputs": [
    {
     "data": {
      "text/html": [
       "<div>\n",
       "<style scoped>\n",
       "    .dataframe tbody tr th:only-of-type {\n",
       "        vertical-align: middle;\n",
       "    }\n",
       "\n",
       "    .dataframe tbody tr th {\n",
       "        vertical-align: top;\n",
       "    }\n",
       "\n",
       "    .dataframe thead th {\n",
       "        text-align: right;\n",
       "    }\n",
       "</style>\n",
       "<table border=\"1\" class=\"dataframe\">\n",
       "  <thead>\n",
       "    <tr style=\"text-align: right;\">\n",
       "      <th></th>\n",
       "      <th>ItemID</th>\n",
       "      <th>Sentiment</th>\n",
       "      <th>SentimentText</th>\n",
       "    </tr>\n",
       "  </thead>\n",
       "  <tbody>\n",
       "    <tr>\n",
       "      <th>0</th>\n",
       "      <td>1</td>\n",
       "      <td>0</td>\n",
       "      <td>is so sad for my apl friend</td>\n",
       "    </tr>\n",
       "    <tr>\n",
       "      <th>1</th>\n",
       "      <td>2</td>\n",
       "      <td>0</td>\n",
       "      <td>i missed the new moon trailer</td>\n",
       "    </tr>\n",
       "    <tr>\n",
       "      <th>3</th>\n",
       "      <td>4</td>\n",
       "      <td>0</td>\n",
       "      <td>omgaga im sooo  im gunna cry ive be...</td>\n",
       "    </tr>\n",
       "    <tr>\n",
       "      <th>4</th>\n",
       "      <td>5</td>\n",
       "      <td>0</td>\n",
       "      <td>i think mi bf is cheating on me       tt</td>\n",
       "    </tr>\n",
       "    <tr>\n",
       "      <th>5</th>\n",
       "      <td>6</td>\n",
       "      <td>0</td>\n",
       "      <td>or i just worry too much</td>\n",
       "    </tr>\n",
       "  </tbody>\n",
       "</table>\n",
       "</div>"
      ],
      "text/plain": [
       "  ItemID  Sentiment                                      SentimentText\n",
       "0      1          0                        is so sad for my apl friend\n",
       "1      2          0                      i missed the new moon trailer\n",
       "3      4          0             omgaga im sooo  im gunna cry ive be...\n",
       "4      5          0           i think mi bf is cheating on me       tt\n",
       "5      6          0                   or i just worry too much        "
      ]
     },
     "execution_count": 43,
     "metadata": {},
     "output_type": "execute_result"
    }
   ],
   "source": [
    "for index, row in data.iterrows():\n",
    "    text = row['SentimentText']\n",
    "    lower_case = text.lower()\n",
    "    cleaned_text = lower_case.translate(\n",
    "        str.maketrans('', '', string.punctuation))\n",
    "    data.at[index, 'SentimentText'] = cleaned_text\n",
    "\n",
    "data.head()"
   ]
  },
  {
   "cell_type": "code",
   "execution_count": 44,
   "metadata": {},
   "outputs": [
    {
     "data": {
      "text/plain": [
       "Index(['ItemID', 'Sentiment', 'SentimentText'], dtype='object')"
      ]
     },
     "execution_count": 44,
     "metadata": {},
     "output_type": "execute_result"
    }
   ],
   "source": [
    "data.columns"
   ]
  },
  {
   "attachments": {},
   "cell_type": "markdown",
   "metadata": {},
   "source": [
    "<h2>Modelo 1 - Regresión logística"
   ]
  },
  {
   "cell_type": "code",
   "execution_count": 45,
   "metadata": {},
   "outputs": [
    {
     "name": "stdout",
     "output_type": "stream",
     "text": [
      "              precision    recall  f1-score   support\n",
      "\n",
      "           0       0.80      0.78      0.79      6643\n",
      "           1       0.79      0.81      0.80      6727\n",
      "\n",
      "    accuracy                           0.79     13370\n",
      "   macro avg       0.79      0.79      0.79     13370\n",
      "weighted avg       0.79      0.79      0.79     13370\n",
      "\n"
     ]
    },
    {
     "name": "stderr",
     "output_type": "stream",
     "text": [
      "c:\\Users\\Cristian Aguirre\\AppData\\Local\\Programs\\Python\\Python310\\lib\\site-packages\\sklearn\\linear_model\\_logistic.py:458: ConvergenceWarning: lbfgs failed to converge (status=1):\n",
      "STOP: TOTAL NO. of ITERATIONS REACHED LIMIT.\n",
      "\n",
      "Increase the number of iterations (max_iter) or scale the data as shown in:\n",
      "    https://scikit-learn.org/stable/modules/preprocessing.html\n",
      "Please also refer to the documentation for alternative solver options:\n",
      "    https://scikit-learn.org/stable/modules/linear_model.html#logistic-regression\n",
      "  n_iter_i = _check_optimize_result(\n"
     ]
    }
   ],
   "source": [
    "from sklearn.model_selection import train_test_split\n",
    "from sklearn.feature_extraction.text import TfidfVectorizer\n",
    "from sklearn.linear_model import LogisticRegression\n",
    "from sklearn.metrics import classification_report\n",
    "\n",
    "# Dividir los datos en características (X) y etiquetas (y)\n",
    "X = data['SentimentText']\n",
    "y = data['Sentiment']\n",
    "\n",
    "# Dividir los datos en conjuntos de entrenamiento y prueba\n",
    "X_train, X_test, y_train, y_test = train_test_split(X, y, test_size=0.2, random_state=42)\n",
    "\n",
    "# Crear un vectorizador TF-IDF\n",
    "vectorizer = TfidfVectorizer()\n",
    "X_train_vectorized = vectorizer.fit_transform(X_train)\n",
    "X_test_vectorized = vectorizer.transform(X_test)\n",
    "\n",
    "# Crear y entrenar el modelo de Regresión Logística\n",
    "logreg_model = LogisticRegression()\n",
    "logreg_model.fit(X_train_vectorized, y_train)\n",
    "\n",
    "# Realizar predicciones en el conjunto de prueba\n",
    "y_pred = logreg_model.predict(X_test_vectorized)\n",
    "\n",
    "print(classification_report(y_test, y_pred))"
   ]
  },
  {
   "cell_type": "code",
   "execution_count": 46,
   "metadata": {},
   "outputs": [
    {
     "name": "stdout",
     "output_type": "stream",
     "text": [
      "[1]\n"
     ]
    }
   ],
   "source": [
    "text = \"I can't believe how poorly this game is designed. The controls are clunky, the graphics are outdated, and the gameplay is incredibly boring. I regret wasting my money on it.\"\n",
    "text = 'Im happy'\n",
    "new_text_vectorized = vectorizer.transform([text])\n",
    "predicted_sentiment = logreg_model.predict(new_text_vectorized)\n",
    "\n",
    "print(predicted_sentiment)\n",
    "\n"
   ]
  },
  {
   "attachments": {},
   "cell_type": "markdown",
   "metadata": {},
   "source": [
    "<h2>Modelo 2 - SVM\n"
   ]
  },
  {
   "cell_type": "code",
   "execution_count": 47,
   "metadata": {},
   "outputs": [
    {
     "name": "stdout",
     "output_type": "stream",
     "text": [
      "              precision    recall  f1-score   support\n",
      "\n",
      "           0       0.83      0.83      0.83      6643\n",
      "           1       0.83      0.83      0.83      6727\n",
      "\n",
      "    accuracy                           0.83     13370\n",
      "   macro avg       0.83      0.83      0.83     13370\n",
      "weighted avg       0.83      0.83      0.83     13370\n",
      "\n"
     ]
    }
   ],
   "source": [
    "from sklearn.model_selection import train_test_split\n",
    "from sklearn.feature_extraction.text import TfidfVectorizer\n",
    "from sklearn.svm import SVC\n",
    "from sklearn.metrics import classification_report\n",
    "\n",
    "# Dividir los datos en características (X) y etiquetas (y)\n",
    "X = data['SentimentText']\n",
    "y = data['Sentiment']\n",
    "\n",
    "# Dividir los datos en conjuntos de entrenamiento y prueba\n",
    "X_train, X_test, y_train, y_test = train_test_split(X, y, test_size=0.2, random_state=42)\n",
    "\n",
    "# Crear un vectorizador TF-IDF\n",
    "vectorizer = TfidfVectorizer()\n",
    "X_train_vectorized = vectorizer.fit_transform(X_train)\n",
    "X_test_vectorized = vectorizer.transform(X_test)\n",
    "\n",
    "# Crear y entrenar el modelo SVM\n",
    "svm_model = SVC()\n",
    "svm_model.fit(X_train_vectorized, y_train)\n",
    "\n",
    "# Realizar predicciones en el conjunto de prueba\n",
    "y_pred = svm_model.predict(X_test_vectorized)\n",
    "\n",
    "# Evaluar el desempeño del modelo\n",
    "print(classification_report(y_test, y_pred))\n"
   ]
  },
  {
   "cell_type": "code",
   "execution_count": 48,
   "metadata": {},
   "outputs": [
    {
     "name": "stdout",
     "output_type": "stream",
     "text": [
      "[1]\n"
     ]
    }
   ],
   "source": [
    "text = \"I can't believe how poorly this game is designed. The controls are clunky, the graphics are outdated, and the gameplay is incredibly boring. I regret wasting my money on it.\"\n",
    "text = 'Im happy'\n",
    "\n",
    "# Aplicar el preprocesamiento y transformación de características\n",
    "new_text_vectorized = vectorizer.transform([text])\n",
    "\n",
    "# Realizar la predicción\n",
    "prediction = svm_model.predict(new_text_vectorized)\n",
    "\n",
    "# Imprimir la predicción\n",
    "print(prediction)"
   ]
  },
  {
   "attachments": {},
   "cell_type": "markdown",
   "metadata": {},
   "source": [
    "<h2>Herramiente de NLTK\n"
   ]
  },
  {
   "cell_type": "code",
   "execution_count": 1,
   "metadata": {},
   "outputs": [],
   "source": [
    "import string\n",
    "from nltk.tokenize import word_tokenize\n",
    "from nltk.corpus import stopwords\n",
    "from nltk.sentiment.vader import SentimentIntensityAnalyzer\n",
    "from nltk.stem import WordNetLemmatizer\n"
   ]
  },
  {
   "cell_type": "code",
   "execution_count": 6,
   "metadata": {},
   "outputs": [],
   "source": [
    "data = [\n",
    "    (0, \"I'm feeling really down today.\"),\n",
    "    (0, \"This movie is terrible. I wouldn't recommend it.\"),\n",
    "    (0, \"I had a horrible experience at the restaurant. The service was awful.\"),\n",
    "    (0, \"I can't believe how disappointing this product is.\"),\n",
    "    (0, \"The weather is so gloomy and depressing.\"),\n",
    "    (1, \"I'm so happy that I got the job I wanted.\"),\n",
    "    (1, \"This book is amazing! I couldn't put it down.\"),\n",
    "    (1, \"I had a great time at the party. It was so much fun.\"),\n",
    "    (1, \"I love the new song by my favorite artist. It's so catchy.\"),\n",
    "    (1, \"I'm feeling grateful for all the good things in my life.\"),\n",
    "    (0, \"I'm tired of dealing with all the stress and negativity.\"),\n",
    "    (0, \"This news is really upsetting. It's hard to stay positive.\"),\n",
    "    (0, \"I'm frustrated with the constant problems at work.\"),\n",
    "    (0, \"I'm not enjoying this vacation as much as I thought I would.\"),\n",
    "    (1, \"I'm excited about the upcoming concert. It's going to be amazing.\"),\n",
    "    (1, \"I received some great news today. It made my day.\"),\n",
    "    (1, \"I'm grateful for the support and love from my friends and family.\"),\n",
    "    (1, \"I had a wonderful time exploring a new city.\"),\n",
    "    (0, \"I'm feeling overwhelmed with all the responsibilities.\"),\n",
    "    (0, \"This situation is really discouraging. I don't see a way out.\"),\n",
    "    (1, \"I achieved a personal milestone today. It feels incredible.\"),\n",
    "    (1, \"I love the feeling of accomplishing my goals.\"),\n",
    "    (1, \"I'm enjoying a relaxing day at the beach.\"),\n",
    "    (1, \"I received a heartfelt compliment that made my day.\"),\n",
    "    (1, \"I'm looking forward to spending time with loved ones this weekend.\"),\n",
    "    (0, \"I'm annoyed by the constant noise from construction outside.\"),\n",
    "    (0, \"I'm disappointed with the lack of progress in my project.\"),\n",
    "    (0, \"I'm upset about the traffic jam delaying my plans.\"),\n",
    "    (0, \"I'm frustrated with the long wait times at the customer service.\"),\n",
    "    (0, \"I'm feeling discouraged after receiving negative feedback.\"),\n",
    "    (1, \"I'm grateful for the beautiful sunset I witnessed today.\"),\n",
    "    (1, \"I enjoyed a delicious meal at my favorite restaurant.\"),\n",
    "    (1, \"I received a surprise gift that made me smile.\"),\n",
    "    (1, \"I'm excited about the upcoming vacation. It's going to be fantastic.\"),\n",
    "    (1, \"I'm proud of myself for completing a challenging task.\"),\n",
    "    (0, \"I'm feeling overwhelmed with the amount of work I have to do.\"),\n",
    "    (0, \"I'm disappointed with the quality of the product I purchased.\"),\n",
    "    (0, \"I'm frustrated with the constant interruptions at work.\"),\n",
    "    (0, \"I'm saddened by the loss of a loved one.\"),\n",
    "    (0, \"I'm irritated by the loud music coming from my neighbor's house.\"),\n",
    "    (1, \"I'm grateful for the support and encouragement from my friends.\"),\n",
    "    (1, \"I enjoyed a refreshing walk in nature today.\"),\n",
    "    (1, \"I received a promotion at work. It's a great achievement.\"),\n",
    "    (1, \"I'm looking forward to attending a concert tonight.\"),\n",
    "    (1, \"I had a fun time playing games with my friends.\"),\n",
    "    (0, \"I'm feeling stressed out due to a tight deadline.\"),\n",
    "    (0, \"I'm dissatisfied with the customer service I received.\"),\n",
    "    (0, \"I'm upset about the cancellation of my favorite TV show.\"),\n",
    "    (0, \"I'm frustrated with the constant delays in public transportation.\"),\n",
    "    (0, \"I'm feeling discouraged after facing a setback in my project.\"),\n",
    "    (0, \"I'm feeling really tired and unmotivated today.\"),\n",
    "    (0, \"This movie is absolutely terrible. It's a waste of time.\"),\n",
    "    (0, \"I had a terrible day at work. Everything went wrong.\"),\n",
    "    (0, \"I can't stand this constant negativity around me.\"),\n",
    "    (0, \"The rain ruined my plans for the day. It's so frustrating.\"),\n",
    "    (1, \"I'm thrilled about the exciting news I received.\"),\n",
    "    (1, \"This book is incredible! It kept me hooked until the end.\"),\n",
    "    (1, \"I had an amazing vacation. It was a memorable experience.\"),\n",
    "    (1, \"I'm in love with the new song by my favorite artist.\"),\n",
    "    (1, \"I feel blessed to have such supportive and loving friends.\"),\n",
    "    (0, \"I'm fed up with all the drama and conflicts in my life.\"),\n",
    "    (0, \"This news is devastating. It's hard to find any hope.\"),\n",
    "    (0, \"I'm frustrated with the lack of progress in my personal goals.\"),\n",
    "    (0, \"I'm not enjoying this party as much as I thought I would.\"),\n",
    "    (1, \"I'm excited to attend the music festival this weekend.\"),\n",
    "    (1, \"I received a wonderful surprise that brightened my day.\"),\n",
    "    (1, \"I'm grateful for the love and care I receive from my family.\"),\n",
    "    (1, \"I had an incredible adventure exploring a new city.\"),\n",
    "    (0, \"I'm overwhelmed with the amount of work piling up.\"),\n",
    "    (0, \"This situation seems hopeless. I don't see a way out.\"),\n",
    "    (1, \"I achieved a major milestone today. It feels amazing.\"),\n",
    "    (1, \"I love the sense of accomplishment when I reach my goals.\"),\n",
    "    (1, \"I'm enjoying a peaceful day at the beach.\"),\n",
    "    (1, \"I received a heartfelt compliment that made my day.\"),\n",
    "    (1, \"I'm looking forward to spending quality time with loved ones.\"),\n",
    "    (0, \"I'm annoyed by the constant noise from construction nearby.\"),\n",
    "    (0, \"I'm disappointed with the lack of support in my endeavors.\"),\n",
    "    (0, \"I'm upset about the traffic jam ruining my plans.\"),\n",
    "    (0, \"I'm frustrated with the unhelpful customer service.\"),\n",
    "    (0, \"I'm feeling demotivated after receiving negative feedback.\"),\n",
    "    (1, \"I'm grateful for the beautiful sunrise I witnessed today.\"),\n",
    "    (1, \"I enjoyed a delicious meal at a new restaurant.\"),\n",
    "    (1, \"I received a thoughtful gift that made me smile.\"),\n",
    "    (1, \"I'm excited about the upcoming vacation. It's going to be fantastic.\"),\n",
    "    (1, \"I'm proud of myself for overcoming a difficult challenge.\"),\n",
    "    (0, \"I'm feeling overwhelmed with the amount of work on my plate.\"),\n",
    "    (0, \"I'm disappointed with the quality of the product I bought.\"),\n",
    "    (0, \"I'm frustrated with the constant interruptions at work.\"),\n",
    "    (0, \"I'm saddened by the loss of a beloved pet.\"),\n",
    "    (0, \"I'm irritated by the loud noise from my neighbor's house.\"),\n",
    "    (1, \"I'm grateful for the support and encouragement from my friends.\"),\n",
    "    (1, \"I enjoyed a peaceful hike in nature today.\"),\n",
    "    (1, \"I received a promotion at work. It's a great achievement.\"),\n",
    "    (1, \"I'm looking forward to attending a concert tonight.\")\n",
    "]\n",
    "\n",
    "data = pd.DataFrame(data, columns=['Sentiment', 'SentimentText'])"
   ]
  },
  {
   "cell_type": "code",
   "execution_count": 7,
   "metadata": {},
   "outputs": [],
   "source": [
    "y_true = data['Sentiment']\n",
    "y_pred = []\n",
    "for row in data.iterrows():\n",
    "    text = row[1][1]\n",
    "\n",
    "    lower_case = text.lower()\n",
    "    cleaned_text = lower_case.translate(\n",
    "        str.maketrans('', '', string.punctuation))\n",
    "\n",
    "    # Using word_tokenize because it's faster than split()\n",
    "    tokenized_words = word_tokenize(cleaned_text, \"english\")\n",
    "\n",
    "    # Removing Stop Words\n",
    "    final_words = []\n",
    "    for word in tokenized_words:\n",
    "        if word not in stopwords.words('english'):\n",
    "            final_words.append(word)\n",
    "\n",
    "    # Lemmatization - From plural to single + Base form of a word (example better-> good)\n",
    "    lemma_words = []\n",
    "    for word in final_words:\n",
    "        word = WordNetLemmatizer().lemmatize(word)\n",
    "        lemma_words.append(word)\n",
    "\n",
    "\n",
    "    processed_text = ' '.join(lemma_words)\n",
    "    score = SentimentIntensityAnalyzer().polarity_scores(processed_text)\n",
    "    result = 1\n",
    "    if score['neg'] > score['pos']:\n",
    "        result = 0\n",
    "    elif score['neg'] < score['pos']:\n",
    "        result = 1\n",
    "    y_pred.append(result)\n",
    "y_true = y_true.values.tolist()"
   ]
  },
  {
   "cell_type": "code",
   "execution_count": 8,
   "metadata": {},
   "outputs": [
    {
     "name": "stdout",
     "output_type": "stream",
     "text": [
      "Precision: 0.8245614035087719\n",
      "Recall: 1.0\n",
      "F1-score: 0.9038461538461539\n"
     ]
    },
    {
     "data": {
      "image/png": "[encoded data removed]",
      "text/plain": [
       "<Figure size 640x480 with 2 Axes>"
      ]
     },
     "metadata": {},
     "output_type": "display_data"
    }
   ],
   "source": [
    "from sklearn.metrics import confusion_matrix\n",
    "import seaborn as sns\n",
    "import matplotlib.pyplot as plt\n",
    "# Obtener las etiquetas verdaderas (y_true) y las etiquetas predichas (y_pred)\n",
    "\n",
    "# Calcular la matriz de confusión\n",
    "confusion_mat = confusion_matrix(y_true, y_pred)\n",
    "\n",
    "# Obtener los valores de verdaderos positivos (TP), falsos positivos (FP), \n",
    "# verdaderos negativos (TN) y falsos negativos (FN) de la matriz de confusión\n",
    "TP = confusion_mat[1][1]\n",
    "FP = confusion_mat[0][1]\n",
    "TN = confusion_mat[0][0]\n",
    "FN = confusion_mat[1][0]\n",
    "\n",
    "# Calcular las métricas de precisión, recall y F1-score\n",
    "precision = TP / (TP + FP)\n",
    "recall = TP / (TP + FN)\n",
    "f1_score = 2 * (precision * recall) / (precision + recall)\n",
    "\n",
    "# Imprimir las métricas de desempeño\n",
    "print(\"Precision:\", precision)\n",
    "print(\"Recall:\", recall)\n",
    "print(\"F1-score:\", f1_score)\n",
    "\n",
    "# Crear un heatmap de la matriz de confusión utilizando seaborn\n",
    "sns.heatmap(confusion_mat, annot=True, cmap=\"Blues\")\n",
    "\n",
    "# Configurar etiquetas de los ejes\n",
    "plt.xlabel(\"Etiqueta Predicha\")\n",
    "plt.ylabel(\"Etiqueta Verdadera\")\n",
    "\n",
    "# Mostrar el heatmap\n",
    "plt.show()"
   ]
  },
  {
   "cell_type": "code",
   "execution_count": 10,
   "metadata": {},
   "outputs": [
    {
     "data": {
      "text/plain": [
       "0.8936170212765957"
      ]
     },
     "execution_count": 10,
     "metadata": {},
     "output_type": "execute_result"
    }
   ],
   "source": [
    "from sklearn.metrics import accuracy_score\n",
    "\n",
    "accuracy = accuracy_score(y_true, y_pred)\n",
    "accuracy"
   ]
  }
 ],
 "metadata": {
  "kernelspec": {
   "display_name": "Python 3",
   "language": "python",
   "name": "python3"
  },
  "language_info": {
   "codemirror_mode": {
    "name": "ipython",
    "version": 3
   },
   "file_extension": ".py",
   "mimetype": "text/x-python",
   "name": "python",
   "nbconvert_exporter": "python",
   "pygments_lexer": "ipython3",
   "version": "3.10.9"
  },
  "orig_nbformat": 4
 },
 "nbformat": 4,
 "nbformat_minor": 2
}
